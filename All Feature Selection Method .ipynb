{
 "cells": [
  {
   "cell_type": "markdown",
   "id": "aaa4f480",
   "metadata": {},
   "source": [
    "<ul>\n",
    "<li> Original Data: F\n",
    "<li> Data after Difference: F_diff_1\n",
    "<li> Data after Minmax: F_scaled\n",
    "    </ul>"
   ]
  },
  {
   "cell_type": "markdown",
   "id": "a52ccb04",
   "metadata": {},
   "source": [
    "Function:\n",
    "<ul>\n",
    "<li>max_mi: Return each X with lag K that has the Maximum Mutual Information with Y</li>\n",
    "<li>max_mic: Return each X with lag K that has the Maximum Information Coefficient with Y</li>\n",
    "<li>max_pcorr_dict: Return each X with lag K that has the maximum Partial Correlation with Y </li>\n",
    " </ul>"
   ]
  },
  {
   "cell_type": "code",
   "execution_count": 424,
   "id": "84202195",
   "metadata": {},
   "outputs": [],
   "source": [
    "import pandas as pd\n",
    "import numpy as np\n",
    "import numpy.random as nr\n",
    "import pandas_datareader.data as web\n",
    "import datetime\n",
    "import matplotlib.pyplot as plt\n",
    "%matplotlib inline\n",
    "from sklearn.preprocessing import MinMaxScaler\n",
    "from sklearn.feature_selection import SelectKBest\n",
    "from sklearn.feature_selection import mutual_info_regression\n",
    "from scipy import stats\n",
    "import scipy.spatial as ss\n",
    "from scipy.special import digamma\n",
    "import numpy.random as nr\n",
    "import random\n",
    "import matplotlib.pyplot as plt\n",
    "import re\n",
    "from scipy.stats.stats import pearsonr\n",
    "import numpy.linalg as la\n",
    "from numpy.linalg import eig, inv, norm, det\n",
    "from scipy import stats\n",
    "from math import log,pi,hypot,fabs,sqrt\n",
    "from sklearn.neighbors import KDTree, NearestNeighbors\n",
    "from sklearn.feature_selection import SelectKBest"
   ]
  },
  {
   "cell_type": "markdown",
   "id": "aedcccd4",
   "metadata": {},
   "source": [
    "### Split Data into Lagged Feature DataFrame"
   ]
  },
  {
   "cell_type": "code",
   "execution_count": 323,
   "id": "eadc7ce5",
   "metadata": {},
   "outputs": [],
   "source": [
    "def split_features(data):\n",
    "    high_df = pd.concat([data.iloc[:,:31],data['Close_1']],axis=1)\n",
    "    open_df = pd.concat([data.iloc[:,31:62],data['Close_1']],axis=1)\n",
    "    low_df = pd.concat([data.iloc[:,62:93],data['Close_1']],axis=1)\n",
    "    vol_df = pd.concat([data.iloc[:,93:-1],data['Close_1']],axis=1)\n",
    "    df_all = [high_df,open_df,low_df,vol_df]\n",
    "    return df_all"
   ]
  },
  {
   "cell_type": "markdown",
   "id": "c3541705",
   "metadata": {},
   "source": [
    "#### Original Data"
   ]
  },
  {
   "cell_type": "code",
   "execution_count": 45,
   "id": "a4558269",
   "metadata": {},
   "outputs": [],
   "source": [
    "start_day = datetime.datetime(2002,6,13)\n",
    "end_day = datetime.datetime(2022,6,13)\n",
    "dj1 = web.get_data_stooq('^DJI',start_day,end_day)\n",
    "dj1.sort_index(ascending=True,inplace=True)\n",
    "dj1['Close_1'] = dj1['Close'].shift(-1)\n",
    "\n",
    "d = range(0,31)\n",
    "high_lag = pd.DataFrame(dj1['High'])\n",
    "for i in d[1:]:\n",
    "    column = 'high_lag_'+str(i)\n",
    "    high_lag[column] = dj1['High'].shift(i)\n",
    "    \n",
    "open_lag = pd.DataFrame(dj1['Open'])\n",
    "for i in d[1:]:\n",
    "    column = 'open_lag_'+str(i)\n",
    "    open_lag[column] = dj1['Open'].shift(i)\n",
    "    \n",
    "low_lag = pd.DataFrame(dj1['Low'])\n",
    "for i in d[1:]:\n",
    "    column = 'low_lag_'+str(i)\n",
    "    low_lag[column] = dj1['Low'].shift(i)\n",
    "    \n",
    "vol_lag = pd.DataFrame(dj1['Volume'])\n",
    "for i in range(1,31):\n",
    "    column = 'vol_lag_'+str(i)\n",
    "    vol_lag[column] = dj1['Volume'].shift(i)\n",
    "F = pd.concat([high_lag,open_lag,low_lag,vol_lag,dj1['Close_1']],axis=1)"
   ]
  },
  {
   "cell_type": "code",
   "execution_count": 326,
   "id": "547f9a62",
   "metadata": {},
   "outputs": [],
   "source": [
    "features_original = split_features(F.iloc[30:-1,:])"
   ]
  },
  {
   "cell_type": "markdown",
   "id": "e8ea358a",
   "metadata": {},
   "source": [
    "### 1.1 Compute Metrics"
   ]
  },
  {
   "cell_type": "code",
   "execution_count": 327,
   "id": "4532c6c2",
   "metadata": {},
   "outputs": [
    {
     "name": "stdout",
     "output_type": "stream",
     "text": [
      "Mutual Information:  (array([3.45707418]), 'High')\n",
      "Maximum Information Coefficient:  (0.9999999712037217, 'high_lag_1')\n",
      "Max Partial Correlation: (0.9995477543139842, 'High')\n",
      "Mutual Information:  (array([3.27942934]), 'Open')\n",
      "Maximum Information Coefficient:  (0.9999999712037217, 'open_lag_1')\n",
      "Max Partial Correlation: (0.9994524967112324, 'Open')\n",
      "Mutual Information:  (array([3.44744146]), 'Low')\n",
      "Maximum Information Coefficient:  (0.9999999712037217, 'low_lag_2')\n",
      "Max Partial Correlation: (0.9995623962098137, 'Low')\n",
      "Mutual Information:  (array([0.68207386]), 'vol_lag_5')\n",
      "Maximum Information Coefficient:  (0.5105186476099398, 'vol_lag_2')\n",
      "Max Partial Correlation: (0.41274831753867214, 'Volume')\n"
     ]
    }
   ],
   "source": [
    "for df in features_original:\n",
    "    mi_features_names.append(max_mi(df.iloc[:,:-1],df.iloc[:,-1])[1])\n",
    "    max_mic(df.iloc[:,:-1],df.iloc[:,-1])[1]\n",
    "    print(\"Max Partial Correlation:\",max_pcorr_dict(df,df.iloc[:,:-1],df.columns[-1]))"
   ]
  },
  {
   "cell_type": "markdown",
   "id": "1dfeb500",
   "metadata": {},
   "source": [
    "### Generate feature names"
   ]
  },
  {
   "cell_type": "code",
   "execution_count": 407,
   "id": "c30da70f",
   "metadata": {},
   "outputs": [],
   "source": [
    "def generate_features_names(features_df,data):\n",
    "    mi_feature_names = [max_mi(df.iloc[:,:-1],df.iloc[:,-1])[1] for df in features_df]\n",
    "    mi_df = data[ mi_feature_names + [data.columns[-1]] ]\n",
    "    mic_feature_names = [max_mic(df.iloc[:,:-1],df.iloc[:,-1])[1] for df in features_df ]\n",
    "    mic_df = data[ mic_feature_names + [data.columns[-1]] ] \n",
    "    pcorr_feature_names = [max_pcorr_dict(df,df.iloc[:,:-1],df.columns[-1])[1] for df in features_df ]\n",
    "    pcorr_df = data[pcorr_feature_names  + [data.columns[-1]] ]\n",
    "    return mi_df ,mic_df,pcorr_df"
   ]
  },
  {
   "cell_type": "code",
   "execution_count": 409,
   "id": "4f5037ce",
   "metadata": {},
   "outputs": [
    {
     "name": "stdout",
     "output_type": "stream",
     "text": [
      "Mutual Information:  (array([3.45701625]), 'High')\n",
      "Mutual Information:  (array([3.27952769]), 'Open')\n",
      "Mutual Information:  (array([3.44720729]), 'Low')\n",
      "Mutual Information:  (array([0.68205972]), 'vol_lag_5')\n",
      "Maximum Information Coefficient:  (0.9999999712037217, 'high_lag_1')\n",
      "Maximum Information Coefficient:  (0.9999999712037217, 'open_lag_1')\n",
      "Maximum Information Coefficient:  (0.9999999712037217, 'low_lag_2')\n",
      "Maximum Information Coefficient:  (0.5105186476099398, 'vol_lag_2')\n",
      "Max Partial Correlation: (0.9995477543139842, 'High')\n",
      "Max Partial Correlation: (0.9994524967112324, 'Open')\n",
      "Max Partial Correlation: (0.9995623962098137, 'Low')\n",
      "Max Partial Correlation: (0.41274831753867214, 'Volume')\n"
     ]
    }
   ],
   "source": [
    "mi_df,mic_df,pcorr_df = generate_features_names(features_original,F.iloc[30:-1,:])"
   ]
  },
  {
   "cell_type": "code",
   "execution_count": 406,
   "id": "0b3b814e",
   "metadata": {},
   "outputs": [
    {
     "data": {
      "text/html": [
       "<div>\n",
       "<style scoped>\n",
       "    .dataframe tbody tr th:only-of-type {\n",
       "        vertical-align: middle;\n",
       "    }\n",
       "\n",
       "    .dataframe tbody tr th {\n",
       "        vertical-align: top;\n",
       "    }\n",
       "\n",
       "    .dataframe thead th {\n",
       "        text-align: right;\n",
       "    }\n",
       "</style>\n",
       "<table border=\"1\" class=\"dataframe\">\n",
       "  <thead>\n",
       "    <tr style=\"text-align: right;\">\n",
       "      <th></th>\n",
       "      <th>High</th>\n",
       "      <th>Open</th>\n",
       "      <th>Low</th>\n",
       "      <th>vol_lag_5</th>\n",
       "      <th>Close_1</th>\n",
       "    </tr>\n",
       "    <tr>\n",
       "      <th>Date</th>\n",
       "      <th></th>\n",
       "      <th></th>\n",
       "      <th></th>\n",
       "      <th></th>\n",
       "      <th></th>\n",
       "    </tr>\n",
       "  </thead>\n",
       "  <tbody>\n",
       "    <tr>\n",
       "      <th>2002-07-26</th>\n",
       "      <td>8267.72</td>\n",
       "      <td>8192.61</td>\n",
       "      <td>8114.59</td>\n",
       "      <td>379100738.0</td>\n",
       "      <td>8711.88</td>\n",
       "    </tr>\n",
       "    <tr>\n",
       "      <th>2002-07-29</th>\n",
       "      <td>8711.88</td>\n",
       "      <td>8267.99</td>\n",
       "      <td>8267.99</td>\n",
       "      <td>477798041.0</td>\n",
       "      <td>8680.03</td>\n",
       "    </tr>\n",
       "    <tr>\n",
       "      <th>2002-07-30</th>\n",
       "      <td>8762.14</td>\n",
       "      <td>8707.03</td>\n",
       "      <td>8540.12</td>\n",
       "      <td>528773852.0</td>\n",
       "      <td>8736.59</td>\n",
       "    </tr>\n",
       "    <tr>\n",
       "      <th>2002-07-31</th>\n",
       "      <td>8736.73</td>\n",
       "      <td>8678.65</td>\n",
       "      <td>8537.10</td>\n",
       "      <td>568715200.0</td>\n",
       "      <td>8506.62</td>\n",
       "    </tr>\n",
       "    <tr>\n",
       "      <th>2002-08-01</th>\n",
       "      <td>8734.31</td>\n",
       "      <td>8732.58</td>\n",
       "      <td>8479.90</td>\n",
       "      <td>442464094.0</td>\n",
       "      <td>8313.13</td>\n",
       "    </tr>\n",
       "    <tr>\n",
       "      <th>...</th>\n",
       "      <td>...</td>\n",
       "      <td>...</td>\n",
       "      <td>...</td>\n",
       "      <td>...</td>\n",
       "      <td>...</td>\n",
       "    </tr>\n",
       "    <tr>\n",
       "      <th>2022-06-06</th>\n",
       "      <td>33235.37</td>\n",
       "      <td>33032.04</td>\n",
       "      <td>32819.50</td>\n",
       "      <td>369091013.0</td>\n",
       "      <td>33180.14</td>\n",
       "    </tr>\n",
       "    <tr>\n",
       "      <th>2022-06-07</th>\n",
       "      <td>33207.45</td>\n",
       "      <td>32783.03</td>\n",
       "      <td>32641.85</td>\n",
       "      <td>640857432.0</td>\n",
       "      <td>32910.90</td>\n",
       "    </tr>\n",
       "    <tr>\n",
       "      <th>2022-06-08</th>\n",
       "      <td>33156.50</td>\n",
       "      <td>33087.07</td>\n",
       "      <td>32824.37</td>\n",
       "      <td>344779544.0</td>\n",
       "      <td>32272.79</td>\n",
       "    </tr>\n",
       "    <tr>\n",
       "      <th>2022-06-09</th>\n",
       "      <td>32956.73</td>\n",
       "      <td>32828.62</td>\n",
       "      <td>32267.78</td>\n",
       "      <td>350437139.0</td>\n",
       "      <td>31392.79</td>\n",
       "    </tr>\n",
       "    <tr>\n",
       "      <th>2022-06-10</th>\n",
       "      <td>32053.52</td>\n",
       "      <td>32053.52</td>\n",
       "      <td>31387.84</td>\n",
       "      <td>327416082.0</td>\n",
       "      <td>30516.74</td>\n",
       "    </tr>\n",
       "  </tbody>\n",
       "</table>\n",
       "<p>5005 rows × 5 columns</p>\n",
       "</div>"
      ],
      "text/plain": [
       "                High      Open       Low    vol_lag_5   Close_1\n",
       "Date                                                           \n",
       "2002-07-26   8267.72   8192.61   8114.59  379100738.0   8711.88\n",
       "2002-07-29   8711.88   8267.99   8267.99  477798041.0   8680.03\n",
       "2002-07-30   8762.14   8707.03   8540.12  528773852.0   8736.59\n",
       "2002-07-31   8736.73   8678.65   8537.10  568715200.0   8506.62\n",
       "2002-08-01   8734.31   8732.58   8479.90  442464094.0   8313.13\n",
       "...              ...       ...       ...          ...       ...\n",
       "2022-06-06  33235.37  33032.04  32819.50  369091013.0  33180.14\n",
       "2022-06-07  33207.45  32783.03  32641.85  640857432.0  32910.90\n",
       "2022-06-08  33156.50  33087.07  32824.37  344779544.0  32272.79\n",
       "2022-06-09  32956.73  32828.62  32267.78  350437139.0  31392.79\n",
       "2022-06-10  32053.52  32053.52  31387.84  327416082.0  30516.74\n",
       "\n",
       "[5005 rows x 5 columns]"
      ]
     },
     "execution_count": 406,
     "metadata": {},
     "output_type": "execute_result"
    }
   ],
   "source": [
    "mi_df"
   ]
  },
  {
   "cell_type": "code",
   "execution_count": 410,
   "id": "92228be8",
   "metadata": {},
   "outputs": [
    {
     "data": {
      "text/html": [
       "<div>\n",
       "<style scoped>\n",
       "    .dataframe tbody tr th:only-of-type {\n",
       "        vertical-align: middle;\n",
       "    }\n",
       "\n",
       "    .dataframe tbody tr th {\n",
       "        vertical-align: top;\n",
       "    }\n",
       "\n",
       "    .dataframe thead th {\n",
       "        text-align: right;\n",
       "    }\n",
       "</style>\n",
       "<table border=\"1\" class=\"dataframe\">\n",
       "  <thead>\n",
       "    <tr style=\"text-align: right;\">\n",
       "      <th></th>\n",
       "      <th>high_lag_1</th>\n",
       "      <th>open_lag_1</th>\n",
       "      <th>low_lag_2</th>\n",
       "      <th>vol_lag_2</th>\n",
       "      <th>Close_1</th>\n",
       "    </tr>\n",
       "    <tr>\n",
       "      <th>Date</th>\n",
       "      <th></th>\n",
       "      <th></th>\n",
       "      <th></th>\n",
       "      <th></th>\n",
       "      <th></th>\n",
       "    </tr>\n",
       "  </thead>\n",
       "  <tbody>\n",
       "    <tr>\n",
       "      <th>2002-07-26</th>\n",
       "      <td>8309.39</td>\n",
       "      <td>8185.89</td>\n",
       "      <td>7532.66</td>\n",
       "      <td>568715200.0</td>\n",
       "      <td>8711.88</td>\n",
       "    </tr>\n",
       "    <tr>\n",
       "      <th>2002-07-29</th>\n",
       "      <td>8267.72</td>\n",
       "      <td>8192.61</td>\n",
       "      <td>7945.95</td>\n",
       "      <td>442464094.0</td>\n",
       "      <td>8680.03</td>\n",
       "    </tr>\n",
       "    <tr>\n",
       "      <th>2002-07-30</th>\n",
       "      <td>8711.88</td>\n",
       "      <td>8267.99</td>\n",
       "      <td>8114.59</td>\n",
       "      <td>306569629.0</td>\n",
       "      <td>8736.59</td>\n",
       "    </tr>\n",
       "    <tr>\n",
       "      <th>2002-07-31</th>\n",
       "      <td>8762.14</td>\n",
       "      <td>8707.03</td>\n",
       "      <td>8267.99</td>\n",
       "      <td>328767984.0</td>\n",
       "      <td>8506.62</td>\n",
       "    </tr>\n",
       "    <tr>\n",
       "      <th>2002-08-01</th>\n",
       "      <td>8736.73</td>\n",
       "      <td>8678.65</td>\n",
       "      <td>8540.12</td>\n",
       "      <td>332889558.0</td>\n",
       "      <td>8313.13</td>\n",
       "    </tr>\n",
       "    <tr>\n",
       "      <th>...</th>\n",
       "      <td>...</td>\n",
       "      <td>...</td>\n",
       "      <td>...</td>\n",
       "      <td>...</td>\n",
       "      <td>...</td>\n",
       "    </tr>\n",
       "    <tr>\n",
       "      <th>2022-06-06</th>\n",
       "      <td>33135.61</td>\n",
       "      <td>32986.32</td>\n",
       "      <td>32509.43</td>\n",
       "      <td>350437139.0</td>\n",
       "      <td>33180.14</td>\n",
       "    </tr>\n",
       "    <tr>\n",
       "      <th>2022-06-07</th>\n",
       "      <td>33235.37</td>\n",
       "      <td>33032.04</td>\n",
       "      <td>32839.21</td>\n",
       "      <td>327416082.0</td>\n",
       "      <td>32910.90</td>\n",
       "    </tr>\n",
       "    <tr>\n",
       "      <th>2022-06-08</th>\n",
       "      <td>33207.45</td>\n",
       "      <td>32783.03</td>\n",
       "      <td>32819.50</td>\n",
       "      <td>289294618.0</td>\n",
       "      <td>32272.79</td>\n",
       "    </tr>\n",
       "    <tr>\n",
       "      <th>2022-06-09</th>\n",
       "      <td>33156.50</td>\n",
       "      <td>33087.07</td>\n",
       "      <td>32641.85</td>\n",
       "      <td>327463783.0</td>\n",
       "      <td>31392.79</td>\n",
       "    </tr>\n",
       "    <tr>\n",
       "      <th>2022-06-10</th>\n",
       "      <td>32956.73</td>\n",
       "      <td>32828.62</td>\n",
       "      <td>32824.37</td>\n",
       "      <td>314420559.0</td>\n",
       "      <td>30516.74</td>\n",
       "    </tr>\n",
       "  </tbody>\n",
       "</table>\n",
       "<p>5005 rows × 5 columns</p>\n",
       "</div>"
      ],
      "text/plain": [
       "            high_lag_1  open_lag_1  low_lag_2    vol_lag_2   Close_1\n",
       "Date                                                                \n",
       "2002-07-26     8309.39     8185.89    7532.66  568715200.0   8711.88\n",
       "2002-07-29     8267.72     8192.61    7945.95  442464094.0   8680.03\n",
       "2002-07-30     8711.88     8267.99    8114.59  306569629.0   8736.59\n",
       "2002-07-31     8762.14     8707.03    8267.99  328767984.0   8506.62\n",
       "2002-08-01     8736.73     8678.65    8540.12  332889558.0   8313.13\n",
       "...                ...         ...        ...          ...       ...\n",
       "2022-06-06    33135.61    32986.32   32509.43  350437139.0  33180.14\n",
       "2022-06-07    33235.37    33032.04   32839.21  327416082.0  32910.90\n",
       "2022-06-08    33207.45    32783.03   32819.50  289294618.0  32272.79\n",
       "2022-06-09    33156.50    33087.07   32641.85  327463783.0  31392.79\n",
       "2022-06-10    32956.73    32828.62   32824.37  314420559.0  30516.74\n",
       "\n",
       "[5005 rows x 5 columns]"
      ]
     },
     "execution_count": 410,
     "metadata": {},
     "output_type": "execute_result"
    }
   ],
   "source": [
    "mic_df"
   ]
  },
  {
   "cell_type": "code",
   "execution_count": 411,
   "id": "a0f47214",
   "metadata": {},
   "outputs": [
    {
     "data": {
      "text/html": [
       "<div>\n",
       "<style scoped>\n",
       "    .dataframe tbody tr th:only-of-type {\n",
       "        vertical-align: middle;\n",
       "    }\n",
       "\n",
       "    .dataframe tbody tr th {\n",
       "        vertical-align: top;\n",
       "    }\n",
       "\n",
       "    .dataframe thead th {\n",
       "        text-align: right;\n",
       "    }\n",
       "</style>\n",
       "<table border=\"1\" class=\"dataframe\">\n",
       "  <thead>\n",
       "    <tr style=\"text-align: right;\">\n",
       "      <th></th>\n",
       "      <th>High</th>\n",
       "      <th>Open</th>\n",
       "      <th>Low</th>\n",
       "      <th>Volume</th>\n",
       "      <th>Close_1</th>\n",
       "    </tr>\n",
       "    <tr>\n",
       "      <th>Date</th>\n",
       "      <th></th>\n",
       "      <th></th>\n",
       "      <th></th>\n",
       "      <th></th>\n",
       "      <th></th>\n",
       "    </tr>\n",
       "  </thead>\n",
       "  <tbody>\n",
       "    <tr>\n",
       "      <th>2002-07-26</th>\n",
       "      <td>8267.72</td>\n",
       "      <td>8192.61</td>\n",
       "      <td>8114.59</td>\n",
       "      <td>306569629</td>\n",
       "      <td>8711.88</td>\n",
       "    </tr>\n",
       "    <tr>\n",
       "      <th>2002-07-29</th>\n",
       "      <td>8711.88</td>\n",
       "      <td>8267.99</td>\n",
       "      <td>8267.99</td>\n",
       "      <td>328767984</td>\n",
       "      <td>8680.03</td>\n",
       "    </tr>\n",
       "    <tr>\n",
       "      <th>2002-07-30</th>\n",
       "      <td>8762.14</td>\n",
       "      <td>8707.03</td>\n",
       "      <td>8540.12</td>\n",
       "      <td>332889558</td>\n",
       "      <td>8736.59</td>\n",
       "    </tr>\n",
       "    <tr>\n",
       "      <th>2002-07-31</th>\n",
       "      <td>8736.73</td>\n",
       "      <td>8678.65</td>\n",
       "      <td>8537.10</td>\n",
       "      <td>327959940</td>\n",
       "      <td>8506.62</td>\n",
       "    </tr>\n",
       "    <tr>\n",
       "      <th>2002-08-01</th>\n",
       "      <td>8734.31</td>\n",
       "      <td>8732.58</td>\n",
       "      <td>8479.90</td>\n",
       "      <td>306588359</td>\n",
       "      <td>8313.13</td>\n",
       "    </tr>\n",
       "    <tr>\n",
       "      <th>...</th>\n",
       "      <td>...</td>\n",
       "      <td>...</td>\n",
       "      <td>...</td>\n",
       "      <td>...</td>\n",
       "      <td>...</td>\n",
       "    </tr>\n",
       "    <tr>\n",
       "      <th>2022-06-06</th>\n",
       "      <td>33235.37</td>\n",
       "      <td>33032.04</td>\n",
       "      <td>32819.50</td>\n",
       "      <td>289294618</td>\n",
       "      <td>33180.14</td>\n",
       "    </tr>\n",
       "    <tr>\n",
       "      <th>2022-06-07</th>\n",
       "      <td>33207.45</td>\n",
       "      <td>32783.03</td>\n",
       "      <td>32641.85</td>\n",
       "      <td>327463783</td>\n",
       "      <td>32910.90</td>\n",
       "    </tr>\n",
       "    <tr>\n",
       "      <th>2022-06-08</th>\n",
       "      <td>33156.50</td>\n",
       "      <td>33087.07</td>\n",
       "      <td>32824.37</td>\n",
       "      <td>314420559</td>\n",
       "      <td>32272.79</td>\n",
       "    </tr>\n",
       "    <tr>\n",
       "      <th>2022-06-09</th>\n",
       "      <td>32956.73</td>\n",
       "      <td>32828.62</td>\n",
       "      <td>32267.78</td>\n",
       "      <td>331546530</td>\n",
       "      <td>31392.79</td>\n",
       "    </tr>\n",
       "    <tr>\n",
       "      <th>2022-06-10</th>\n",
       "      <td>32053.52</td>\n",
       "      <td>32053.52</td>\n",
       "      <td>31387.84</td>\n",
       "      <td>411949075</td>\n",
       "      <td>30516.74</td>\n",
       "    </tr>\n",
       "  </tbody>\n",
       "</table>\n",
       "<p>5005 rows × 5 columns</p>\n",
       "</div>"
      ],
      "text/plain": [
       "                High      Open       Low     Volume   Close_1\n",
       "Date                                                         \n",
       "2002-07-26   8267.72   8192.61   8114.59  306569629   8711.88\n",
       "2002-07-29   8711.88   8267.99   8267.99  328767984   8680.03\n",
       "2002-07-30   8762.14   8707.03   8540.12  332889558   8736.59\n",
       "2002-07-31   8736.73   8678.65   8537.10  327959940   8506.62\n",
       "2002-08-01   8734.31   8732.58   8479.90  306588359   8313.13\n",
       "...              ...       ...       ...        ...       ...\n",
       "2022-06-06  33235.37  33032.04  32819.50  289294618  33180.14\n",
       "2022-06-07  33207.45  32783.03  32641.85  327463783  32910.90\n",
       "2022-06-08  33156.50  33087.07  32824.37  314420559  32272.79\n",
       "2022-06-09  32956.73  32828.62  32267.78  331546530  31392.79\n",
       "2022-06-10  32053.52  32053.52  31387.84  411949075  30516.74\n",
       "\n",
       "[5005 rows x 5 columns]"
      ]
     },
     "execution_count": 411,
     "metadata": {},
     "output_type": "execute_result"
    }
   ],
   "source": [
    "pcorr_df"
   ]
  },
  {
   "cell_type": "markdown",
   "id": "707ab3bc",
   "metadata": {},
   "source": [
    "### SelectKBest+MI"
   ]
  },
  {
   "cell_type": "code",
   "execution_count": 369,
   "id": "12af9666",
   "metadata": {},
   "outputs": [],
   "source": [
    "# feature selection\n",
    "def select_features(X_train, y_train, X_test):\n",
    "    # configure to select a subset of features\n",
    "    fs = SelectKBest(score_func=mutual_info_regression, k=10)\n",
    "    # learn relationship from training data\n",
    "    fs.fit(X_train, y_train)\n",
    "    # transform train input data\n",
    "    X_train_fs = fs.transform(X_train)\n",
    "    # transform test input data\n",
    "    X_test_fs = fs.transform(X_test)\n",
    "    return X_train_fs, X_test_fs, fs"
   ]
  },
  {
   "cell_type": "code",
   "execution_count": 348,
   "id": "5b4d76d2",
   "metadata": {},
   "outputs": [],
   "source": [
    "test_df = F.iloc[30:-1,:]"
   ]
  },
  {
   "cell_type": "code",
   "execution_count": 350,
   "id": "0d0da9f3",
   "metadata": {},
   "outputs": [],
   "source": [
    "test_len = int(len(test_df)*0.7)\n",
    "\n",
    "X_train = test_df.iloc[:test_len,:-1]\n",
    "X_test = test_df.iloc[test_len:,:-1]\n",
    "y_train = test_df.iloc[:test_len,-1]\n",
    "y_test = test_df.iloc[test_len:,-1]"
   ]
  },
  {
   "cell_type": "code",
   "execution_count": 370,
   "id": "d6d309ef",
   "metadata": {},
   "outputs": [],
   "source": [
    "X_train_fs, X_test_fs, fs = select_features(X_train, y_train, X_test)"
   ]
  },
  {
   "cell_type": "code",
   "execution_count": 371,
   "id": "dd15191d",
   "metadata": {},
   "outputs": [
    {
     "data": {
      "text/plain": [
       "Index(['High', 'high_lag_1', 'high_lag_2', 'high_lag_3', 'Open', 'open_lag_1',\n",
       "       'open_lag_2', 'Low', 'low_lag_1', 'low_lag_2'],\n",
       "      dtype='object')"
      ]
     },
     "execution_count": 371,
     "metadata": {},
     "output_type": "execute_result"
    }
   ],
   "source": [
    "mask = fs.get_support()\n",
    "X_test.columns[mask]"
   ]
  },
  {
   "cell_type": "markdown",
   "id": "5efb1cbd",
   "metadata": {},
   "source": [
    "#### Minmax Scaled Data"
   ]
  },
  {
   "cell_type": "code",
   "execution_count": 333,
   "id": "d9dc5360",
   "metadata": {},
   "outputs": [],
   "source": [
    "features = F.iloc[30:-1,:-1].copy()\n",
    "target = F.iloc[30:-1,-1].copy()\n",
    "# F_scaled = F.iloc[30:-1,:].copy()\n",
    "\n",
    "X = np.array(features)\n",
    "Y = np.array(target).reshape((-1,1))\n",
    "SC_X = MinMaxScaler(feature_range=(0,1))\n",
    "SC_Y = MinMaxScaler(feature_range=(0,1))\n",
    "x_mic = SC_X.fit_transform(X)\n",
    "y_mic = SC_Y.fit_transform(Y)\n",
    "\n",
    "for i in range(F_scaled.shape[1]):\n",
    "    if i< F_scaled.shape[1] - 1:\n",
    "        F_scaled.iloc[:,i] = x_mic[:,i]\n",
    "    F_scaled.iloc[:,i] = y_mic.reshape((-1,))"
   ]
  },
  {
   "cell_type": "code",
   "execution_count": 334,
   "id": "cb07cdc9",
   "metadata": {},
   "outputs": [],
   "source": [
    "features_minmax = split_features(F_scaled)"
   ]
  },
  {
   "cell_type": "markdown",
   "id": "618968b1",
   "metadata": {},
   "source": [
    "### 2.1 Compute Metrics"
   ]
  },
  {
   "cell_type": "code",
   "execution_count": 344,
   "id": "6ffbe2f0",
   "metadata": {},
   "outputs": [
    {
     "name": "stdout",
     "output_type": "stream",
     "text": [
      "Mutual Information:  (array([7.25852857]), 'high_lag_18')\n",
      "Maximum Information Coefficient:  (1.0000000000000007, 'high_lag_9')\n",
      "Max Partial Correlation: (-inf, 'high_lag_9')\n"
     ]
    },
    {
     "name": "stderr",
     "output_type": "stream",
     "text": [
      "C:\\Users\\rich\\anaconda3\\lib\\site-packages\\pingouin\\correlation.py:59: RuntimeWarning: invalid value encountered in double_scalars\n",
      "  tval = r * np.sqrt(dof / (1 - r**2))\n",
      "C:\\Users\\rich\\anaconda3\\lib\\site-packages\\pingouin\\effsize.py:157: RuntimeWarning: invalid value encountered in arctanh\n",
      "  z = np.arctanh(stat)  # R-to-z transform\n"
     ]
    },
    {
     "name": "stdout",
     "output_type": "stream",
     "text": [
      "Mutual Information:  (array([7.25917792]), 'open_lag_22')\n",
      "Maximum Information Coefficient:  (1.0000000000000007, 'open_lag_9')\n",
      "Max Partial Correlation: (-inf, 'open_lag_9')\n"
     ]
    },
    {
     "name": "stderr",
     "output_type": "stream",
     "text": [
      "C:\\Users\\rich\\anaconda3\\lib\\site-packages\\pingouin\\correlation.py:59: RuntimeWarning: invalid value encountered in double_scalars\n",
      "  tval = r * np.sqrt(dof / (1 - r**2))\n",
      "C:\\Users\\rich\\anaconda3\\lib\\site-packages\\pingouin\\effsize.py:157: RuntimeWarning: invalid value encountered in arctanh\n",
      "  z = np.arctanh(stat)  # R-to-z transform\n"
     ]
    },
    {
     "name": "stdout",
     "output_type": "stream",
     "text": [
      "Mutual Information:  (array([7.25864512]), 'low_lag_18')\n",
      "Maximum Information Coefficient:  (1.0000000000000007, 'low_lag_9')\n",
      "Max Partial Correlation: (-inf, 'low_lag_9')\n"
     ]
    },
    {
     "name": "stderr",
     "output_type": "stream",
     "text": [
      "C:\\Users\\rich\\anaconda3\\lib\\site-packages\\pingouin\\correlation.py:59: RuntimeWarning: invalid value encountered in double_scalars\n",
      "  tval = r * np.sqrt(dof / (1 - r**2))\n",
      "C:\\Users\\rich\\anaconda3\\lib\\site-packages\\pingouin\\effsize.py:157: RuntimeWarning: invalid value encountered in arctanh\n",
      "  z = np.arctanh(stat)  # R-to-z transform\n"
     ]
    },
    {
     "name": "stdout",
     "output_type": "stream",
     "text": [
      "Mutual Information:  (array([7.25861182]), 'vol_lag_1')\n",
      "Maximum Information Coefficient:  (1.0000000000000007, 'vol_lag_9')\n",
      "Max Partial Correlation: (-inf, 'vol_lag_9')\n"
     ]
    },
    {
     "name": "stderr",
     "output_type": "stream",
     "text": [
      "C:\\Users\\rich\\anaconda3\\lib\\site-packages\\pingouin\\correlation.py:59: RuntimeWarning: invalid value encountered in double_scalars\n",
      "  tval = r * np.sqrt(dof / (1 - r**2))\n",
      "C:\\Users\\rich\\anaconda3\\lib\\site-packages\\pingouin\\effsize.py:157: RuntimeWarning: invalid value encountered in arctanh\n",
      "  z = np.arctanh(stat)  # R-to-z transform\n"
     ]
    }
   ],
   "source": [
    "for df in features_minmax:\n",
    "    max_mi(df.iloc[:,:-1],df.iloc[:,-1])\n",
    "    max_mic(df.iloc[:,:-1],df.iloc[:,-1])\n",
    "    print(\"Max Partial Correlation:\",max_pcorr_dict(df,df.iloc[:,:-1],df.columns[-1]))"
   ]
  },
  {
   "cell_type": "markdown",
   "id": "b690a386",
   "metadata": {},
   "source": [
    "#### Differenced Data"
   ]
  },
  {
   "cell_type": "code",
   "execution_count": 339,
   "id": "c24d3e19",
   "metadata": {},
   "outputs": [],
   "source": [
    "F_diff_1 = F.diff(1).dropna()\n",
    "features_diff_1 = split_features(F_diff_1)"
   ]
  },
  {
   "cell_type": "markdown",
   "id": "5d6ec4ee",
   "metadata": {},
   "source": [
    "### 3.1 Compute Metrics"
   ]
  },
  {
   "cell_type": "code",
   "execution_count": 340,
   "id": "8bcea9b2",
   "metadata": {},
   "outputs": [
    {
     "name": "stdout",
     "output_type": "stream",
     "text": [
      "Mutual Information:  (array([0.06217591]), 'high_lag_2')\n",
      "Maximum Information Coefficient:  (0.08377267492468345, 'high_lag_28')\n",
      "Max Partial Correlation: (0.07704396089130817, 'high_lag_1')\n",
      "Mutual Information:  (array([0.068026]), 'Open')\n",
      "Maximum Information Coefficient:  (0.08340247253604348, 'open_lag_28')\n",
      "Max Partial Correlation: (0.06231115151704472, 'open_lag_1')\n",
      "Mutual Information:  (array([0.07198743]), 'low_lag_1')\n",
      "Maximum Information Coefficient:  (0.08654140997266575, 'low_lag_3')\n",
      "Max Partial Correlation: (0.07789350296235374, 'low_lag_1')\n",
      "Mutual Information:  (array([0.02372385]), 'vol_lag_3')\n",
      "Maximum Information Coefficient:  (0.08669077737836842, 'vol_lag_11')\n",
      "Max Partial Correlation: (0.03685452889848453, 'vol_lag_23')\n"
     ]
    }
   ],
   "source": [
    "for df in features_diff_1:\n",
    "    max_mi(df.iloc[:,:-1],df.iloc[:,-1])\n",
    "    max_mic(df.iloc[:,:-1],df.iloc[:,-1])\n",
    "    print(\"Max Partial Correlation:\",max_pcorr_dict(df,df.iloc[:,:-1],df.columns[-1]))"
   ]
  },
  {
   "cell_type": "code",
   "execution_count": 412,
   "id": "f417a0d0",
   "metadata": {},
   "outputs": [
    {
     "name": "stdout",
     "output_type": "stream",
     "text": [
      "Mutual Information:  (array([0.06220421]), 'high_lag_2')\n",
      "Mutual Information:  (array([0.06810614]), 'Open')\n",
      "Mutual Information:  (array([0.07199708]), 'low_lag_1')\n",
      "Mutual Information:  (array([0.02369633]), 'vol_lag_3')\n",
      "Maximum Information Coefficient:  (0.08377267492468345, 'high_lag_28')\n",
      "Maximum Information Coefficient:  (0.08340247253604348, 'open_lag_28')\n",
      "Maximum Information Coefficient:  (0.08654140997266575, 'low_lag_3')\n",
      "Maximum Information Coefficient:  (0.08669077737836842, 'vol_lag_11')\n",
      "Max Partial Correlation: (0.07704396089130817, 'high_lag_1')\n",
      "Max Partial Correlation: (0.06231115151704472, 'open_lag_1')\n",
      "Max Partial Correlation: (0.07789350296235374, 'low_lag_1')\n",
      "Max Partial Correlation: (0.03685452889848453, 'vol_lag_23')\n"
     ]
    }
   ],
   "source": [
    "mi_diff_df,mic_diff_df,pcorr_diff_df = generate_features_names(features_diff_1,F_diff_1)"
   ]
  },
  {
   "cell_type": "markdown",
   "id": "938662a0",
   "metadata": {},
   "source": [
    "### Mutual Information Function"
   ]
  },
  {
   "cell_type": "code",
   "execution_count": 425,
   "id": "1c870a96",
   "metadata": {},
   "outputs": [],
   "source": [
    "# calculate <nx> of each feature\n",
    "def avgdigamma(points,dvec):\n",
    "#This part finds number of neighbors in some radius in the marginal space\n",
    "#returns expectation value of <psi(nx)>\n",
    "    N = len(points)\n",
    "    tree = ss.cKDTree(points)\n",
    "    avg = 0.\n",
    "    for i in range(N):\n",
    "        dist = dvec[i]\n",
    "        #subtlety, we don't include the boundary point, \n",
    "        #but we are implicitly adding 1 to kraskov def bc center point is included\n",
    "        num_points = len(tree.query_ball_point(points[i],dist-1e-15,p=float('inf'))) \n",
    "        avg += digamma(num_points)/N\n",
    "    return avg\n",
    "\n",
    "def mi_Kraskov(features,target, k=3,intens = 1e-10):\n",
    "    #Merge features and the target into a single dataframe\n",
    "#     X_x = features\n",
    "#     Y_y = target\n",
    "    X = np.vstack((features.T,target.T))\n",
    "    \n",
    "    # adding small noise to X, e.g., x<-X+noise\n",
    "    x = []\n",
    "    for i in range(len(X)):\n",
    "        tem = []\n",
    "        for j in range(len(X[i])):\n",
    "            #every element becomes list\n",
    "            #tem = [ [[ X[i][j]+ + intens*nr.rand(1)[0] ],[]...[]] , [[]...[]] , ... , [[]...[]] ]\n",
    "            tem.append([X[i][j] + intens*nr.rand(1)[0]])\n",
    "        x.append(tem)\n",
    "    #Generate tree which amount is equal to the number of features\n",
    "    points = []\n",
    "    for j in range(len(x[0])):\n",
    "        tem = []\n",
    "        for i in range(len(x)):\n",
    "            tem.append(x[i][j][0])\n",
    "        points.append(tem)\n",
    "    tree = ss.cKDTree(np.array(points))\n",
    "    \n",
    "    # every element stores the distance between points\n",
    "    dvec = []\n",
    "    for i in range(len(x)):\n",
    "        dvec.append([])\n",
    "        \n",
    "    for point in points:\n",
    "        # Find k-nearest neighbors in joint space, p=inf means max norm\n",
    "        knn = tree.query(point, k+1, p=float('inf'))\n",
    "        points_knn = []\n",
    "        for i in range(len(x)):\n",
    "            dvec[i].append(float('-inf'))\n",
    "            points_knn.append([])\n",
    "        for j in range(k+1):\n",
    "            for i in range(len(x)):\n",
    "                points_knn[i].append(points[knn[1][j]][i])\n",
    "\n",
    "        # Find distances to k-nearest neighbors in each marginal space\n",
    "        for i in range(k+1):\n",
    "                for j in range(len(x)):\n",
    "                    if dvec[j][-1] < fabs(points_knn[j][i]-points_knn[j][0]):\n",
    "                        dvec[j][-1] = fabs(points_knn[j][i]-points_knn[j][0])\n",
    "\n",
    "    ret = 0.\n",
    "    for i in range(len(x)):\n",
    "        ret -= avgdigamma(x[i], dvec[i])\n",
    "    ret += digamma(k) - (float(len(x))-1.)/float(k) + (float(len(x))-1.) * digamma(len(x[0]))\n",
    "    return ret"
   ]
  },
  {
   "cell_type": "code",
   "execution_count": 439,
   "id": "3b087375",
   "metadata": {},
   "outputs": [],
   "source": [
    "def multi_mi_cc(X, y, n_neighbors=4):\n",
    "    \"\"\"Compute mutual information between many to one continuous variable.\n",
    "    Parameters\n",
    "    ----------\n",
    "    x : ndarray, shape (n_samples, n_features)\n",
    "        Samples of continous features.\n",
    "    y : ndarray, shape (n_samples, )\n",
    "        Samples of continuous target variable     \n",
    "    n_neighbors : int\n",
    "        Number of nearest neighbors to search for each point, see [1]_.\n",
    "    Returns\n",
    "    -------\n",
    "    mi : float\n",
    "        Estimated mutual information. If it turned out to be negative it is\n",
    "        replace by 0.\n",
    "    Notes\n",
    "    -----\n",
    "    Adapted from sklearn.feature_selection._mutual_info._compute_mi_cc\n",
    "\n",
    "    References\n",
    "    ----------\n",
    "    .. [1] A. Kraskov, H. Stogbauer and P. Grassberger, \"Estimating mutual\n",
    "           information\". Phys. Rev. E 69, 2004.\n",
    "    \"\"\"\n",
    "    n_samples = X.size\n",
    "\n",
    "    if len(X.shape) == 1:\n",
    "        X = X.reshape(-1, 1)\n",
    "    y = y.reshape((-1, 1))\n",
    "    xy = np.vstack((X, y))\n",
    "\n",
    "    # Here we rely on NearestNeighbors to select the fastest algorithm.\n",
    "    nn = NearestNeighbors(metric=\"chebyshev\", n_neighbors=n_neighbors)\n",
    "\n",
    "    nn.fit(xy)\n",
    "    radius = nn.kneighbors()[0]\n",
    "    radius = np.nextafter(radius[:, -1], 0)\n",
    "\n",
    "    # KDTree is explicitly fit to allow for the querying of number of\n",
    "    # neighbors within a specified radius\n",
    "    nX = np.zeros_like(X)\n",
    "    for i, x in enumerate(X):\n",
    "        kd = KDTree(x.reshape(-1, 1))\n",
    "        nx = kd.query_radius(x.reshape(-1, 1), radius,\n",
    "                             count_only=True, return_distance=False)\n",
    "        nx = np.array(nx) - 1.0\n",
    "        nX[:, i] = nx\n",
    "\n",
    "    kd = KDTree(y, metric=\"chebyshev\")\n",
    "    ny = kd.query_radius(y, radius, count_only=True, return_distance=False)\n",
    "    ny = np.array(ny) - 1.0\n",
    "\n",
    "    mi = digamma(n_samples) + digamma(n_neighbors) - \\\n",
    "        np.mean(digamma(nX + 1)) - np.mean(digamma(ny + 1))\n",
    "\n",
    "    return max(0, mi)\n",
    "\n",
    "def feature_selection(X, y, metric, tol=0):\n",
    "    \"\"\"\n",
    "    A function to perform a forward feature selection based on a features to target dependence metric.\n",
    "    Inputs:\n",
    "        x: np.ndarray, 2D array of features\n",
    "\n",
    "        y: np.ndarray,\n",
    "       \n",
    "        metric: np.ufunc,\n",
    "    Output:\n",
    "        selected: list, the list of selected feature indexes\n",
    "    \"\"\"\n",
    "    selected = [] # indices of selected fetures\n",
    "    rest = list(range(X.shape[1]))\n",
    "    prev_score = 0\n",
    "    # stop = False\n",
    "    counter = 0\n",
    "    while len(rest)>0 :\n",
    "        id_max = rest[0]\n",
    "        max_score = 0\n",
    "#         counter += 1\n",
    "        for id in rest:\n",
    "            nan_arrays = np.array(np.where(np.isnan(X.iloc[:,selected+[id]])))[0]\n",
    "#             print(nan_arrays)\n",
    "            if nan_arrays.size == 0:  \n",
    "#                 start_idx = np.max(nan_arrays[0]) + 1\n",
    "                x = np.array(X.iloc[:,selected+[id]])\n",
    "                Y = np.array(y).reshape((-1,1))\n",
    "                temp_score = metric(x, Y)\n",
    "                \n",
    "            else:\n",
    "                start_idx = np.max(nan_arrays[0]) + 1\n",
    "                x = np.array(X.iloc[start_idx:,selected+[id]])\n",
    "                Y = np.array(y[start_idx:]).reshape((-1,1))\n",
    "                temp_score = metric(x, Y)\n",
    "                \n",
    "            if temp_score>max_score:\n",
    "                id_max = id\n",
    "                max_score = temp_score\n",
    "        if prev_score>max_score - tol:\n",
    "            return selected\n",
    "        prev_score = max_score\n",
    "        selected = selected+[id_max]\n",
    "        rest.remove(id_max)\n",
    "        print(f\"rest {rest}, selected: {selected}, score: {max_score}\")\n",
    "    return selected"
   ]
  },
  {
   "cell_type": "code",
   "execution_count": 177,
   "id": "a045ad1a",
   "metadata": {},
   "outputs": [
    {
     "data": {
      "text/plain": [
       "2.515176628509426"
      ]
     },
     "execution_count": 177,
     "metadata": {},
     "output_type": "execute_result"
    }
   ],
   "source": [
    "Xx , yy = F.iloc[30:-1, :10].values, F.iloc[30:-1, -1].values\n",
    "\n",
    "multi_mi_cc(Xx, yy)"
   ]
  },
  {
   "cell_type": "code",
   "execution_count": 163,
   "id": "08bf33e0",
   "metadata": {},
   "outputs": [
    {
     "data": {
      "text/plain": [
       "array([ 8711.88,  8680.03,  8736.59, ..., 32272.79, 31392.79, 30516.74])"
      ]
     },
     "execution_count": 163,
     "metadata": {},
     "output_type": "execute_result"
    }
   ],
   "source": [
    "F.iloc[30:-1, -1].values"
   ]
  },
  {
   "cell_type": "code",
   "execution_count": 359,
   "id": "4b1e65d5",
   "metadata": {},
   "outputs": [],
   "source": [
    "x1 = F.iloc[30:-1,7]\n",
    "x2 = F.iloc[30:-1,9]\n",
    "x1x2 = list(zip(x1,x2))\n",
    "y = F.iloc[30:-1,-1]"
   ]
  },
  {
   "cell_type": "code",
   "execution_count": 361,
   "id": "70451a5c",
   "metadata": {},
   "outputs": [
    {
     "data": {
      "text/plain": [
       "array([2.77656895, 2.68394749])"
      ]
     },
     "execution_count": 361,
     "metadata": {},
     "output_type": "execute_result"
    }
   ],
   "source": [
    "mutual_info_regression(x1x2,y)"
   ]
  },
  {
   "cell_type": "markdown",
   "id": "a9b71e0d",
   "metadata": {},
   "source": [
    "#### MIC Function"
   ]
  },
  {
   "cell_type": "code",
   "execution_count": 94,
   "id": "ba562efd",
   "metadata": {},
   "outputs": [],
   "source": [
    "from minepy import MINE,cstats"
   ]
  },
  {
   "cell_type": "code",
   "execution_count": 133,
   "id": "eda5f5bf",
   "metadata": {},
   "outputs": [],
   "source": [
    "mi_scores = sorted(mi_scores.items(), key=lambda x: x[1])"
   ]
  },
  {
   "cell_type": "code",
   "execution_count": 380,
   "id": "3933d5ea",
   "metadata": {},
   "outputs": [],
   "source": [
    "def max_mi(features,target):\n",
    "    mi_scores = {}\n",
    "    cols = list(features.columns)\n",
    "    for col in cols:\n",
    "        mi_scores[col] = mutual_info_regression(np.array(features[col]).reshape((-1,1)),np.array(target).reshape((-1,)))\n",
    "    print(\"Mutual Information: \",max(zip(mi_scores.values(),mi_scores.keys())))\n",
    "    return max(zip(mi_scores.values(),mi_scores.keys()))\n",
    "\n",
    "def max_mic(features,target):\n",
    "    mine = MINE()\n",
    "    mic_scores ={}\n",
    "    cols = list(features.columns)\n",
    "    for col in cols:\n",
    "        mine.compute_score(features[col],target)\n",
    "        mic_scores[col] = mine.mic()  \n",
    "    print(\"Maximum Information Coefficient: \",max(zip(mic_scores.values(),mic_scores.keys())))\n",
    "    return max(zip(mic_scores.values(),mic_scores.keys()))"
   ]
  },
  {
   "cell_type": "markdown",
   "id": "aa6dfb94",
   "metadata": {},
   "source": [
    "Partial Correlation"
   ]
  },
  {
   "cell_type": "code",
   "execution_count": 301,
   "id": "f68b3aac",
   "metadata": {},
   "outputs": [],
   "source": [
    "import pingouin as pg"
   ]
  },
  {
   "cell_type": "code",
   "execution_count": 383,
   "id": "b004a7ce",
   "metadata": {},
   "outputs": [],
   "source": [
    "def max_pcorr_dict(df,features,target_name):\n",
    "    cols = list(features.columns)\n",
    "    pcorr_dict = {}\n",
    "    for col in cols:\n",
    "        original_cols = cols.copy()\n",
    "        pcorr_dict[col] = (pg.partial_corr(data = df,x = col,y = target_name,x_covar = original_cols.remove(col)))['r'][0]\n",
    "    print(\"Max Partial Correlation:\",max(zip(pcorr_dict.values(),pcorr_dict.keys()))) \n",
    "    return max(zip(pcorr_dict.values(),pcorr_dict.keys()))   "
   ]
  },
  {
   "cell_type": "markdown",
   "id": "3d0a86ac",
   "metadata": {},
   "source": [
    "### Using MI,MIC and Partial Correlation"
   ]
  },
  {
   "cell_type": "code",
   "execution_count": 320,
   "id": "8a37a4fa",
   "metadata": {},
   "outputs": [
    {
     "name": "stdout",
     "output_type": "stream",
     "text": [
      "Mutual Information:  (array([0.06212442]), 'high_lag_2')\n",
      "Maximum Information Coefficient:  (0.08377267492468345, 'high_lag_28')\n",
      "Max Partial Correlation: (0.07704396089130817, 'high_lag_1')\n",
      "Mutual Information:  (array([0.06805881]), 'Open')\n",
      "Maximum Information Coefficient:  (0.08340247253604348, 'open_lag_28')\n",
      "Max Partial Correlation: (0.06231115151704472, 'open_lag_1')\n",
      "Mutual Information:  (array([0.0720968]), 'low_lag_1')\n",
      "Maximum Information Coefficient:  (0.08654140997266575, 'low_lag_3')\n",
      "Max Partial Correlation: (0.07789350296235374, 'low_lag_1')\n",
      "Mutual Information:  (array([0.02377356]), 'vol_lag_3')\n",
      "Maximum Information Coefficient:  (0.08669077737836842, 'vol_lag_11')\n",
      "Max Partial Correlation: (0.03685452889848453, 'vol_lag_23')\n"
     ]
    }
   ],
   "source": [
    "for df in df_all:\n",
    "    max_mi(df.iloc[:,:-1],df.iloc[:,-1])\n",
    "    max_mic(df.iloc[:,:-1],df.iloc[:,-1])\n",
    "    print(\"Max Partial Correlation:\",max_pcorr_dict(df,df.iloc[:,:-1],df.columns[-1]))"
   ]
  },
  {
   "cell_type": "markdown",
   "id": "8f4a0fba",
   "metadata": {},
   "source": [
    "### ACE-CREAM"
   ]
  },
  {
   "cell_type": "code",
   "execution_count": 471,
   "id": "5f4a3f95",
   "metadata": {},
   "outputs": [],
   "source": [
    "F = F.dropna()"
   ]
  },
  {
   "cell_type": "code",
   "execution_count": 474,
   "id": "de97a96d",
   "metadata": {},
   "outputs": [
    {
     "ename": "ModuleNotFoundError",
     "evalue": "No module named 'ace_cream'",
     "output_type": "error",
     "traceback": [
      "\u001b[1;31m---------------------------------------------------------------------------\u001b[0m",
      "\u001b[1;31mModuleNotFoundError\u001b[0m                       Traceback (most recent call last)",
      "\u001b[1;32m~\\AppData\\Local\\Temp/ipykernel_3816/1736640402.py\u001b[0m in \u001b[0;36m<module>\u001b[1;34m\u001b[0m\n\u001b[1;32m----> 1\u001b[1;33m \u001b[1;32mfrom\u001b[0m \u001b[0mace_cream\u001b[0m \u001b[1;32mimport\u001b[0m \u001b[0mace_cream\u001b[0m\u001b[1;33m\u001b[0m\u001b[1;33m\u001b[0m\u001b[0m\n\u001b[0m",
      "\u001b[1;31mModuleNotFoundError\u001b[0m: No module named 'ace_cream'"
     ]
    }
   ],
   "source": [
    "from ace_cream import ace_cream"
   ]
  },
  {
   "cell_type": "code",
   "execution_count": null,
   "id": "63fd9cee",
   "metadata": {},
   "outputs": [],
   "source": []
  },
  {
   "cell_type": "markdown",
   "id": "d567f8f5",
   "metadata": {},
   "source": [
    "### Regression Model"
   ]
  },
  {
   "cell_type": "code",
   "execution_count": 372,
   "id": "457c723c",
   "metadata": {},
   "outputs": [],
   "source": [
    "from sklearn.model_selection import cross_val_score\n",
    "from sklearn.model_selection import RepeatedKFold\n",
    "from sklearn.linear_model import Ridge"
   ]
  },
  {
   "cell_type": "markdown",
   "id": "d8f32d78",
   "metadata": {},
   "source": [
    "#### feature subsets"
   ]
  },
  {
   "cell_type": "code",
   "execution_count": null,
   "id": "4ce5735c",
   "metadata": {},
   "outputs": [],
   "source": []
  },
  {
   "cell_type": "code",
   "execution_count": null,
   "id": "9053c70f",
   "metadata": {},
   "outputs": [],
   "source": [
    "model = Ridge(alpha=1.0)\n",
    "cv = RepeatedKFold(n_splits=10, n_repeats=3, random_state=1)\n",
    "scores = cross_val_score(model, X, y, scoring='neg_mean_absolute_error', cv=cv, n_jobs=-1)"
   ]
  },
  {
   "cell_type": "code",
   "execution_count": null,
   "id": "21284c5f",
   "metadata": {},
   "outputs": [],
   "source": []
  }
 ],
 "metadata": {
  "kernelspec": {
   "display_name": "Python 3 (ipykernel)",
   "language": "python",
   "name": "python3"
  },
  "language_info": {
   "codemirror_mode": {
    "name": "ipython",
    "version": 3
   },
   "file_extension": ".py",
   "mimetype": "text/x-python",
   "name": "python",
   "nbconvert_exporter": "python",
   "pygments_lexer": "ipython3",
   "version": "3.9.7"
  }
 },
 "nbformat": 4,
 "nbformat_minor": 5
}
