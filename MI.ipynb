{
 "cells": [
  {
   "cell_type": "code",
   "execution_count": 68,
   "id": "84202195",
   "metadata": {},
   "outputs": [],
   "source": [
    "import pandas as pd\n",
    "import numpy as np\n",
    "import numpy.random as nr\n",
    "import pandas_datareader.data as web\n",
    "import datetime\n",
    "import matplotlib.pyplot as plt\n",
    "%matplotlib inline\n",
    "from sklearn.preprocessing import MinMaxScaler\n",
    "from sklearn.feature_selection import SelectKBest\n",
    "\n",
    "from scipy import stats\n",
    "import scipy.spatial as ss\n",
    "from scipy.special import digamma,gamma\n",
    "import numpy.random as nr\n",
    "import random\n",
    "import matplotlib.pyplot as plt\n",
    "import re\n",
    "from scipy.stats.stats import pearsonr\n",
    "import numpy.linalg as la\n",
    "from numpy.linalg import eig, inv, norm, det\n",
    "from scipy import stats\n",
    "from math import log,pi,hypot,fabs,sqrt"
   ]
  },
  {
   "cell_type": "code",
   "execution_count": 45,
   "id": "a4558269",
   "metadata": {},
   "outputs": [],
   "source": [
    "start_day = datetime.datetime(2002,6,13)\n",
    "end_day = datetime.datetime(2022,6,13)\n",
    "dj1 = web.get_data_stooq('^DJI',start_day,end_day)\n",
    "dj1.sort_index(ascending=True,inplace=True)\n",
    "dj1['Close_1'] = dj1['Close'].shift(-1)\n",
    "\n",
    "d = range(0,31)\n",
    "high_lag = pd.DataFrame(dj1['High'])\n",
    "for i in d[1:]:\n",
    "    column = 'high_lag_'+str(i)\n",
    "    high_lag[column] = dj1['High'].shift(i)\n",
    "    \n",
    "open_lag = pd.DataFrame(dj1['Open'])\n",
    "for i in d[1:]:\n",
    "    column = 'open_lag_'+str(i)\n",
    "    open_lag[column] = dj1['Open'].shift(i)\n",
    "    \n",
    "low_lag = pd.DataFrame(dj1['Low'])\n",
    "for i in d[1:]:\n",
    "    column = 'low_lag_'+str(i)\n",
    "    low_lag[column] = dj1['Low'].shift(i)\n",
    "    \n",
    "vol_lag = pd.DataFrame(dj1['Volume'])\n",
    "for i in range(1,31):\n",
    "    column = 'vol_lag_'+str(i)\n",
    "    vol_lag[column] = dj1['Volume'].shift(i)\n",
    "F = pd.concat([high_lag,open_lag,low_lag,vol_lag,dj1['Close_1']],axis=1)"
   ]
  },
  {
   "cell_type": "code",
   "execution_count": 46,
   "id": "e5b44237",
   "metadata": {},
   "outputs": [
    {
     "data": {
      "text/plain": [
       "Date\n",
       "2002-06-13     9474.21\n",
       "2002-06-14     9687.42\n",
       "2002-06-17     9706.12\n",
       "2002-06-18     9561.57\n",
       "2002-06-19     9431.77\n",
       "                ...   \n",
       "2022-06-07    32910.90\n",
       "2022-06-08    32272.79\n",
       "2022-06-09    31392.79\n",
       "2022-06-10    30516.74\n",
       "2022-06-13         NaN\n",
       "Name: Close_1, Length: 5036, dtype: float64"
      ]
     },
     "execution_count": 46,
     "metadata": {},
     "output_type": "execute_result"
    }
   ],
   "source": [
    "F['Close_1']"
   ]
  },
  {
   "cell_type": "markdown",
   "id": "938662a0",
   "metadata": {},
   "source": [
    "### Mutual Information Function"
   ]
  },
  {
   "cell_type": "code",
   "execution_count": 48,
   "id": "1c870a96",
   "metadata": {},
   "outputs": [],
   "source": [
    "# calculate <nx> of each feature\n",
    "def avgdigamma(points,dvec):\n",
    "#This part finds number of neighbors in some radius in the marginal space\n",
    "#returns expectation value of <psi(nx)>\n",
    "    N = len(points)\n",
    "    tree = ss.cKDTree(points)\n",
    "    avg = 0.\n",
    "    for i in range(N):\n",
    "        dist = dvec[i]\n",
    "        #subtlety, we don't include the boundary point, \n",
    "        #but we are implicitly adding 1 to kraskov def bc center point is included\n",
    "        num_points = len(tree.query_ball_point(points[i],dist-1e-15,p=float('inf'))) \n",
    "        avg += digamma(num_points)/N\n",
    "    return avg\n",
    "\n",
    "def mi_Kraskov(features,target, k=3,intens = 1e-10):\n",
    "    #Merge features and the target into a single dataframe\n",
    "#     X_x = features\n",
    "#     Y_y = target\n",
    "    X = np.vstack((features.T,target.T))\n",
    "    \n",
    "    # adding small noise to X, e.g., x<-X+noise\n",
    "    x = []\n",
    "    for i in range(len(X)):\n",
    "        tem = []\n",
    "        for j in range(len(X[i])):\n",
    "            #every element becomes list\n",
    "            #tem = [ [[ X[i][j]+ + intens*nr.rand(1)[0] ],[]...[]] , [[]...[]] , ... , [[]...[]] ]\n",
    "            tem.append([X[i][j] + intens*nr.rand(1)[0]])\n",
    "        x.append(tem)\n",
    "    #Generate tree which amount is equal to the number of features\n",
    "    points = []\n",
    "    for j in range(len(x[0])):\n",
    "        tem = []\n",
    "        for i in range(len(x)):\n",
    "            tem.append(x[i][j][0])\n",
    "        points.append(tem)\n",
    "    tree = ss.cKDTree(np.array(points))\n",
    "    \n",
    "    # every element stores the distance between points\n",
    "    dvec = []\n",
    "    for i in range(len(x)):\n",
    "        dvec.append([])\n",
    "        \n",
    "    for point in points:\n",
    "        # Find k-nearest neighbors in joint space, p=inf means max norm\n",
    "        knn = tree.query(point, k+1, p=float('inf'))\n",
    "        points_knn = []\n",
    "        for i in range(len(x)):\n",
    "            dvec[i].append(float('-inf'))\n",
    "            points_knn.append([])\n",
    "        for j in range(k+1):\n",
    "            for i in range(len(x)):\n",
    "                points_knn[i].append(points[knn[1][j]][i])\n",
    "\n",
    "        # Find distances to k-nearest neighbors in each marginal space\n",
    "        for i in range(k+1):\n",
    "                for j in range(len(x)):\n",
    "                    if dvec[j][-1] < fabs(points_knn[j][i]-points_knn[j][0]):\n",
    "                        dvec[j][-1] = fabs(points_knn[j][i]-points_knn[j][0])\n",
    "\n",
    "    ret = 0.\n",
    "    for i in range(len(x)):\n",
    "        ret -= avgdigamma(x[i], dvec[i])\n",
    "    ret += digamma(k) - (float(len(x))-1.)/float(k) + (float(len(x))-1.) * digamma(len(x[0]))\n",
    "    return ret"
   ]
  },
  {
   "cell_type": "code",
   "execution_count": 49,
   "id": "3b087375",
   "metadata": {},
   "outputs": [],
   "source": [
    "def feature_selection(X, y, metric, tol=0):\n",
    "    \"\"\"\n",
    "    A function to perform a forward feature selection based on a features to target dependence metric.\n",
    "    Inputs:\n",
    "        x: np.ndarray, 2D array of features\n",
    "\n",
    "        y: np.ndarray,\n",
    "       \n",
    "        metric: np.ufunc,\n",
    "    Output:\n",
    "        selected: list, the list of selected feature indexes\n",
    "    \"\"\"\n",
    "    selected = [] # indices of selected fetures\n",
    "    rest = list(range(X.shape[1]))\n",
    "    prev_score = 0\n",
    "    # stop = False\n",
    "    counter = 0\n",
    "    while len(rest)>0 and counter<5:\n",
    "        id_max = rest[0]\n",
    "        max_score = 0\n",
    "        counter += 1\n",
    "        for id in rest:\n",
    "#             nan_arrays = np.array(np.where(np.isnan(X.iloc[:,selected+[id]])))[0]\n",
    "# #             print(nan_arrays)\n",
    "#             if nan_arrays.size == 0:  \n",
    "# #                 start_idx = np.max(nan_arrays[0]) + 1\n",
    "#                 x = np.array(X.iloc[:,selected+[id]]).reshape((-1, 1))\n",
    "#                 Y = np.array(y).reshape((-1,1))\n",
    "#                 temp_score = metric(x, Y)\n",
    "                \n",
    "#             else:\n",
    "#                 start_idx = np.max(nan_arrays[0]) + 1\n",
    "#                 x = np.array(X.iloc[start_idx:,selected+[id]])\n",
    "#                 Y = np.array(y[start_idx:]).reshape((-1,1))\n",
    "            temp_score = metric(X, y).mic()\n",
    "                \n",
    "            if temp_score>max_score:\n",
    "                id_max = id\n",
    "                max_score = temp_score\n",
    "        if prev_score>max_score - tol:\n",
    "            return selected\n",
    "        prev_score = max_score\n",
    "        selected = selected+[id_max]\n",
    "        rest.remove(id_max)\n",
    "        print(f\"rest {rest}, selected: {selected}, score: {max_score}\")\n",
    "    return selected"
   ]
  },
  {
   "cell_type": "code",
   "execution_count": 50,
   "id": "6c42d274",
   "metadata": {},
   "outputs": [],
   "source": [
    "features = F.iloc[30:-1,:-1].copy()\n",
    "target = F.iloc[30:-1,-1].copy()"
   ]
  },
  {
   "cell_type": "code",
   "execution_count": 51,
   "id": "ee66937a",
   "metadata": {},
   "outputs": [],
   "source": [
    "X = np.array(features)\n",
    "Y = np.array(target).reshape((-1,1))\n",
    "SC_X = MinMaxScaler(feature_range=(0,1))\n",
    "SC_Y = MinMaxScaler(feature_range=(0,1))\n",
    "x_mic = SC_X.fit_transform(X)\n",
    "y_mic = SC_Y.fit_transform(Y)"
   ]
  },
  {
   "cell_type": "code",
   "execution_count": 89,
   "id": "8648b248",
   "metadata": {},
   "outputs": [
    {
     "data": {
      "text/plain": [
       "(5036, 125)"
      ]
     },
     "execution_count": 89,
     "metadata": {},
     "output_type": "execute_result"
    }
   ],
   "source": [
    "F.shape"
   ]
  },
  {
   "cell_type": "code",
   "execution_count": 91,
   "id": "a8da6137",
   "metadata": {},
   "outputs": [],
   "source": [
    "F_scaled = F.iloc[30:-1,:].copy()\n",
    "for i in range(F_scaled.shape[1]):\n",
    "    if i<123:\n",
    "        F_scaled.iloc[:,i] = x_mic[:,i]\n",
    "    F_scaled.iloc[:,i] = y_mic.reshape((-1,))"
   ]
  },
  {
   "cell_type": "code",
   "execution_count": 94,
   "id": "ba562efd",
   "metadata": {},
   "outputs": [],
   "source": [
    "from minepy import MINE,cstats"
   ]
  },
  {
   "cell_type": "code",
   "execution_count": 95,
   "id": "4e0fb4fe",
   "metadata": {},
   "outputs": [],
   "source": [
    "mine = MINE()"
   ]
  },
  {
   "cell_type": "code",
   "execution_count": 59,
   "id": "f811f7d0",
   "metadata": {},
   "outputs": [],
   "source": [
    "mic_c, tic_c =  cstats(x_mic.T,y_mic.T,alpha=9, c=5, est=\"mic_e\")"
   ]
  },
  {
   "cell_type": "code",
   "execution_count": null,
   "id": "1ae54459",
   "metadata": {},
   "outputs": [],
   "source": [
    "from ace import model\n",
    "from ace import ace"
   ]
  },
  {
   "cell_type": "code",
   "execution_count": 14,
   "id": "eda5f5bf",
   "metadata": {},
   "outputs": [],
   "source": [
    "def feature_selection(X, y, metric, tol=0):\n",
    "    \"\"\"\n",
    "    A function to perform a forward feature selection based on a features to target dependence metric.\n",
    "    Inputs:\n",
    "        x: np.ndarray, 2D array of features\n",
    "\n",
    "        y: np.ndarray,\n",
    "       \n",
    "        metric: np.ufunc,\n",
    "    Output:\n",
    "        selected: list, the list of selected feature indexes\n",
    "    \"\"\"\n",
    "    selected = [] # indices of selected fetures\n",
    "    rest = list(range(X.shape[1]))\n",
    "    prev_score = 0\n",
    "    # stop = False\n",
    "    counter = 0\n",
    "    while len(rest)>0 and counter<5:\n",
    "        id_max = rest[0]\n",
    "        max_score = 0\n",
    "        counter += 1\n",
    "        for id in rest:\n",
    "            nan_arrays = np.array(np.where(np.isnan(X.iloc[:,selected+[id]])))[0]\n",
    "#             print(nan_arrays)\n",
    "            if nan_arrays.size == 0:  \n",
    "#                 start_idx = np.max(nan_arrays[0]) + 1\n",
    "                x = np.array(X.iloc[:,selected+[id]]).reshape((-1, 1))\n",
    "                Y = np.array(y).reshape((-1,1))\n",
    "                temp_score = metric(x, Y)\n",
    "                \n",
    "            else:\n",
    "                start_idx = np.max(nan_arrays[0]) + 1\n",
    "                x = np.array(X.iloc[start_idx:,selected+[id]])\n",
    "                Y = np.array(y[start_idx:]).reshape((-1,1))\n",
    "                temp_score = metric(x, Y)\n",
    "                \n",
    "            if temp_score>max_score:\n",
    "                id_max = id\n",
    "                max_score = temp_score\n",
    "        if prev_score>max_score - tol:\n",
    "            return selected\n",
    "        prev_score = max_score\n",
    "        selected = selected+[id_max]\n",
    "        rest.remove(id_max)\n",
    "        print(f\"rest {rest}, selected: {selected}, score: {max_score}\")\n",
    "    return selected"
   ]
  },
  {
   "cell_type": "code",
   "execution_count": null,
   "id": "d7046565",
   "metadata": {},
   "outputs": [],
   "source": []
  }
 ],
 "metadata": {
  "kernelspec": {
   "display_name": "Python 3 (ipykernel)",
   "language": "python",
   "name": "python3"
  },
  "language_info": {
   "codemirror_mode": {
    "name": "ipython",
    "version": 3
   },
   "file_extension": ".py",
   "mimetype": "text/x-python",
   "name": "python",
   "nbconvert_exporter": "python",
   "pygments_lexer": "ipython3",
   "version": "3.9.7"
  }
 },
 "nbformat": 4,
 "nbformat_minor": 5
}
